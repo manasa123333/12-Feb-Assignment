{
 "cells": [
  {
   "cell_type": "markdown",
   "id": "99562343-248a-4193-a0aa-923e9fd37cc2",
   "metadata": {},
   "source": [
    "Q1. What is an Exception in python? Write the difference  between Exceptions and syntax errors"
   ]
  },
  {
   "cell_type": "markdown",
   "id": "b989740c-e2b9-4f85-95c8-a493e7a1736e",
   "metadata": {},
   "source": [
    "An exception is an event, which occurs during the execution of a program that disrupts the normal flow of the program's instructions. In general, when a Python script encounters a situation that it cannot cope with, it raises an exception. An exception is a Python object that represents an error.                            \n",
    "\n",
    "Because Exception can be occurred due to Syntax Errors, Logical Error and Run Time Errors, while Syntax errors occurs only due to syntax. So that “Every syntax error is an exception but every exception cannot be a syntax error.”"
   ]
  },
  {
   "cell_type": "markdown",
   "id": "fcc514ac-568c-4318-b7fe-7b2690a3460a",
   "metadata": {},
   "source": [
    "Q2. What happens when an exeption is not handled? Explain with an example.                    \n",
    "When exeption is not handled we get error \"incomplete input\""
   ]
  },
  {
   "cell_type": "code",
   "execution_count": 1,
   "id": "556a44f7-2673-443e-b0cd-8bfacee7a1da",
   "metadata": {},
   "outputs": [
    {
     "ename": "SyntaxError",
     "evalue": "incomplete input (3128446128.py, line 2)",
     "output_type": "error",
     "traceback": [
      "\u001b[0;36m  Cell \u001b[0;32mIn[1], line 2\u001b[0;36m\u001b[0m\n\u001b[0;31m    name = input(\"Enter your name :\")\u001b[0m\n\u001b[0m                                     ^\u001b[0m\n\u001b[0;31mSyntaxError\u001b[0m\u001b[0;31m:\u001b[0m incomplete input\n"
     ]
    }
   ],
   "source": [
    "try:\n",
    "    name = input(\"Enter your name :\")"
   ]
  },
  {
   "cell_type": "markdown",
   "id": "86c7ac85-adb5-4052-8d04-25b4f8a38d7d",
   "metadata": {},
   "source": [
    "Q3. Which Python statements are used to catch and handle exceptions? Explain with an example "
   ]
  },
  {
   "cell_type": "markdown",
   "id": "ab8a66e7-5b9c-4125-933b-22b2ab40a94d",
   "metadata": {},
   "source": [
    "The try and except Block: Handling Exceptions. The try and except block in Python is used to catch and handle exceptions"
   ]
  },
  {
   "cell_type": "code",
   "execution_count": 2,
   "id": "b582963c-f54a-47ba-93fa-4e09ad6f4291",
   "metadata": {},
   "outputs": [
    {
     "name": "stdout",
     "output_type": "stream",
     "text": [
      "this is my except block [Errno 2] No such file or directory: 'test.txt'\n"
     ]
    }
   ],
   "source": [
    "try:\n",
    "    f = open(\"test.txt\",'r')\n",
    "except Exception as e :\n",
    "    print(\"this is my except block\",e)"
   ]
  },
  {
   "cell_type": "markdown",
   "id": "9af13606-82ab-47ee-960a-cb348410e40c",
   "metadata": {},
   "source": [
    " Q4. Explain with an example:                                      \n",
    " a.  Try  and else             \n",
    " b.   finally                  \n",
    " c.   raise                         \n"
   ]
  },
  {
   "cell_type": "code",
   "execution_count": 3,
   "id": "6db2e090-15e1-46bd-a5ef-94b4511f7545",
   "metadata": {},
   "outputs": [
    {
     "name": "stdout",
     "output_type": "stream",
     "text": [
      "this will be executed once your try will execute without error\n"
     ]
    }
   ],
   "source": [
    "#try and else\n",
    "try:\n",
    "    f = open(\"test.txt\",'w')\n",
    "    f.write(\"write into my file\")\n",
    "except Exception as e :\n",
    "    print(\"this is my except block\",e)\n",
    "else:\n",
    "    f.close()\n",
    "    print(\"this will be executed once your try will execute without error\")\n"
   ]
  },
  {
   "cell_type": "code",
   "execution_count": 4,
   "id": "cf01bb18-2bd9-4ff1-a91d-9d19a7af4a28",
   "metadata": {},
   "outputs": [
    {
     "name": "stdout",
     "output_type": "stream",
     "text": [
      "this is my except block not writable\n"
     ]
    }
   ],
   "source": [
    "#if try is not executed else block is not executed\n",
    "try:\n",
    "    f = open(\"test.txt\",'r')\n",
    "    f.write(\"write into my file\")\n",
    "except Exception as e :\n",
    "    print(\"this is my except block\",e)\n",
    "else:\n",
    "    f.close()\n",
    "    print(\"this will be executed once your try will execute without error\")"
   ]
  },
  {
   "cell_type": "markdown",
   "id": "e06f5574-4e21-4e41-b8cb-be34e0b25e0b",
   "metadata": {},
   "source": [
    "Q5. What are Custom Exceptions in python? Why do we need Custom Exceptions? Explain with an example \n"
   ]
  },
  {
   "cell_type": "markdown",
   "id": "5118b9c6-1267-4e90-8aae-ff9a2c4d35aa",
   "metadata": {},
   "source": [
    "Custom exceptions provide you the flexibility to add attributes and methods that are not part of a standard Python exception. These can store additional information, like an application-specific error code, or provide utility methods that can be used to handle or present the exception to a user.\n",
    "Python is known for its readability and user-friendliness; using custom exceptions can help us improve this even more, especially when we are designing our package. If you decide to avoid, at all costs, custom exceptions by using only built-in ones, you risk decreasing Python's readability.\n"
   ]
  },
  {
   "cell_type": "code",
   "execution_count": 2,
   "id": "61c685fb-c10a-4325-be2e-76c5cccdc716",
   "metadata": {},
   "outputs": [
    {
     "name": "stdin",
     "output_type": "stream",
     "text": [
      "enter your age 23\n"
     ]
    },
    {
     "name": "stdout",
     "output_type": "stream",
     "text": [
      "age is valid\n"
     ]
    }
   ],
   "source": [
    "\n",
    "\n",
    "class validateage(Exception):\n",
    "    \n",
    "    def __init__(self , msg) : \n",
    "        self.msg = msg\n",
    "        \n",
    "        \n",
    "        \n",
    "def validaetage(age) : \n",
    "    if age < 0 :\n",
    "        raise validateage(\"entered age is negative \" )\n",
    "    elif age > 200 : \n",
    "        raise validateage(\"enterd age is very very high \" )\n",
    "    else :\n",
    "        print(\"age is valid\" )\n",
    "        \n",
    "        \n",
    "try :\n",
    "    age = int(input(\"enter your age\" ))\n",
    "    validaetage(age)\n",
    "except validateage as e :\n",
    "    print(e)"
   ]
  },
  {
   "cell_type": "markdown",
   "id": "4d2ee039-dd85-4b80-8be0-13238c2dbf32",
   "metadata": {},
   "source": [
    " Q6. Create a custom exception class. Use this class to handle an exception. \n"
   ]
  },
  {
   "cell_type": "code",
   "execution_count": 4,
   "id": "74b7a3e8-31a1-4a7c-a5d6-1012fb17ea93",
   "metadata": {},
   "outputs": [
    {
     "name": "stdin",
     "output_type": "stream",
     "text": [
      "enter your age 12\n"
     ]
    },
    {
     "name": "stdout",
     "output_type": "stream",
     "text": [
      "age is valid\n"
     ]
    }
   ],
   "source": [
    "class validateage(Exception):\n",
    "    \n",
    "    def __init__(self , msg) : \n",
    "        self.msg = msg\n",
    "        \n",
    "        \n",
    "        \n",
    "def validaetage(age) : \n",
    "    if age < 0 :\n",
    "        raise validateage(\"entered age is negative \" )\n",
    "    elif age > 200 : \n",
    "        raise validateage(\"enterd age is very very high \" )\n",
    "    else :\n",
    "        print(\"age is valid\" )\n",
    "        \n",
    "        \n",
    "try :\n",
    "    age = int(input(\"enter your age\" ))\n",
    "    validaetage(age)\n",
    "except validateage as e :\n",
    "    print(e)"
   ]
  },
  {
   "cell_type": "code",
   "execution_count": null,
   "id": "7ceb7488-b5e5-4bd6-8081-5831f257b3c9",
   "metadata": {},
   "outputs": [],
   "source": []
  }
 ],
 "metadata": {
  "kernelspec": {
   "display_name": "Python 3 (ipykernel)",
   "language": "python",
   "name": "python3"
  },
  "language_info": {
   "codemirror_mode": {
    "name": "ipython",
    "version": 3
   },
   "file_extension": ".py",
   "mimetype": "text/x-python",
   "name": "python",
   "nbconvert_exporter": "python",
   "pygments_lexer": "ipython3",
   "version": "3.10.8"
  }
 },
 "nbformat": 4,
 "nbformat_minor": 5
}
